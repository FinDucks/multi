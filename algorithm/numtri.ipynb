{
 "cells": [
  {
   "cell_type": "code",
   "execution_count": 26,
   "metadata": {},
   "outputs": [],
   "source": [
    "tri = [[7], [3, 8], [8, 1, 0], [2, 7, 4, 4], [4, 5, 2, 6, 5]]"
   ]
  },
  {
   "cell_type": "code",
   "execution_count": 6,
   "metadata": {},
   "outputs": [
    {
     "data": {
      "text/plain": [
       "8"
      ]
     },
     "execution_count": 6,
     "metadata": {},
     "output_type": "execute_result"
    }
   ],
   "source": [
    "triangle[1][1]\n"
   ]
  },
  {
   "cell_type": "code",
   "execution_count": 10,
   "metadata": {},
   "outputs": [
    {
     "data": {
      "text/plain": [
       "[0]"
      ]
     },
     "execution_count": 10,
     "metadata": {},
     "output_type": "execute_result"
    }
   ],
   "source": [
    "a = list(range(1))\n",
    "a"
   ]
  },
  {
   "cell_type": "code",
   "execution_count": 15,
   "metadata": {},
   "outputs": [
    {
     "data": {
      "text/plain": [
       "6"
      ]
     },
     "execution_count": 15,
     "metadata": {},
     "output_type": "execute_result"
    }
   ],
   "source": [
    "max(triangle[4][4], triangle[4][3])"
   ]
  },
  {
   "cell_type": "code",
   "execution_count": 16,
   "metadata": {},
   "outputs": [
    {
     "data": {
      "text/plain": [
       "7"
      ]
     },
     "execution_count": 16,
     "metadata": {},
     "output_type": "execute_result"
    }
   ],
   "source": [
    "triangle[0][0]"
   ]
  },
  {
   "cell_type": "code",
   "execution_count": null,
   "metadata": {},
   "outputs": [],
   "source": [
    "# 7\n",
    "# 3 8\n",
    "# 8 1 0\n",
    "# 2 7 4 4\n",
    "# 4 5 2 6 5"
   ]
  },
  {
   "cell_type": "code",
   "execution_count": 22,
   "metadata": {},
   "outputs": [],
   "source": [
    "def solution(triangle):\n",
    "    # 경우의 수 2^(len(triangle)-1)\n",
    "    for i in range(len(triangle)-1, -1, -1):\n",
    "        for j in range(i, -1, -1):\n",
    "            #print(triangle[i][j])\n",
    "            triangle[i][j] += max(triangle[i+1][j], triangle[i+1][j+1])\n",
    "\n",
    "    answer = triangle[0][0]\n",
    "    return answer\n",
    "#  list index out of range \n",
    "# 레인지에 문제가 있어보임 수정필요"
   ]
  },
  {
   "cell_type": "code",
   "execution_count": 27,
   "metadata": {},
   "outputs": [
    {
     "data": {
      "text/plain": [
       "30"
      ]
     },
     "execution_count": 27,
     "metadata": {},
     "output_type": "execute_result"
    }
   ],
   "source": [
    "def solution(triangle):\n",
    "    for i in range(len(triangle)-2, -1, -1):\n",
    "        for j in range(i+1):\n",
    "            triangle[i][j] += max(triangle[i+1][j], triangle[i+1][j+1])\n",
    "\n",
    "    answer = triangle[0][0]\n",
    "    return answer\n",
    "\n",
    "solution(tri)"
   ]
  },
  {
   "cell_type": "code",
   "execution_count": null,
   "metadata": {},
   "outputs": [],
   "source": [
    "### 강사님 풀이\n",
    "\n",
    "def solution(triangle):\n",
    "    answer = 0\n",
    "    # [print(tri) for tri in triangle]\n",
    "\n",
    "    # 어디로 갈 수 있는지?\n",
    "    # 메모이제이션, 어떤 걸 기억해서 써야되는지?\n",
    "    max_triangle = [ triangle[0] ] # [ [7], [10, 15], [22, 22, 22]  ]\n",
    "\n",
    "    for floor in range(1, len(triangle)): # 2층부터 삼각형 층수까지\n",
    "        row = triangle[floor]\n",
    "        temp = []\n",
    "        for i, v in enumerate(row):\n",
    "            # CASE 1: 맨 앞에 있을 때,\n",
    "            if i == 0:\n",
    "                temp.append(v + max_triangle[floor-1][0])\n",
    "            # CASE 2: 맨 뒤에 있을 때,\n",
    "            elif i == len(row)-1:\n",
    "                temp.append(v + max_triangle[floor-1][-1])\n",
    "            # CASE 3: 사이에 있을 때,\n",
    "            else:\n",
    "                temp.append(max(v + max_triangle[floor-1][i-1], v + max_triangle[floor-1][i]))\n",
    "        max_triangle.append(temp)\n",
    "\n",
    "    # 2층부터 시작해서\n",
    "    # 해당 위치(index)로 올 수 있는 값과 더한 뒤\n",
    "    # 그 중에 큰 값을 선택한다.\n",
    "\n",
    "    # [print(tri) for tri in max_triangle]\n",
    "\n",
    "    return max(max_triangle[-1])"
   ]
  },
  {
   "cell_type": "code",
   "execution_count": 28,
   "metadata": {},
   "outputs": [
    {
     "data": {
      "text/plain": [
       "90"
      ]
     },
     "execution_count": 28,
     "metadata": {},
     "output_type": "execute_result"
    }
   ],
   "source": [
    "solution(tri)"
   ]
  },
  {
   "cell_type": "code",
   "execution_count": null,
   "metadata": {},
   "outputs": [],
   "source": []
  }
 ],
 "metadata": {
  "kernelspec": {
   "display_name": "sesac",
   "language": "python",
   "name": "python3"
  },
  "language_info": {
   "codemirror_mode": {
    "name": "ipython",
    "version": 3
   },
   "file_extension": ".py",
   "mimetype": "text/x-python",
   "name": "python",
   "nbconvert_exporter": "python",
   "pygments_lexer": "ipython3",
   "version": "3.11.4"
  },
  "orig_nbformat": 4
 },
 "nbformat": 4,
 "nbformat_minor": 2
}
