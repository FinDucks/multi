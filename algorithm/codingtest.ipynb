{
 "cells": [
  {
   "attachments": {},
   "cell_type": "markdown",
   "metadata": {},
   "source": [
    "### 머쓱이보다 키큰 사람\n",
    "https://school.programmers.co.kr/learn/courses/30/lessons/120585\n"
   ]
  },
  {
   "cell_type": "code",
   "execution_count": 33,
   "metadata": {},
   "outputs": [],
   "source": [
    "# 머쓱이는 학교에서 키 순으로 줄을 설 때 몇 번째로 서야 하는지 궁금해졌습니다. \n",
    "# 머쓱이네 반 친구들의 키가 담긴 정수 배열 array와 머쓱이의 키 height가 매개변수로 주어질 때, \n",
    "# 머쓱이보다 키 큰 사람 수를 return 하도록 solution 함수를 완성해보세요.\n",
    "\n",
    "def solution(array, height):\n",
    "    array.append(height)\n",
    "    array.sort(reverse=True)\n",
    "    #answer = len(array)-array.index(height)-1\n",
    "    # 이렇게 진행하니 머쓱이와 같은 키가 여러명일 때 문제가 발생\n",
    "    answer = array.index(height)\n",
    "\n",
    "    return answer"
   ]
  },
  {
   "cell_type": "code",
   "execution_count": 34,
   "metadata": {},
   "outputs": [
    {
     "data": {
      "text/plain": [
       "3"
      ]
     },
     "execution_count": 34,
     "metadata": {},
     "output_type": "execute_result"
    }
   ],
   "source": [
    "solution([149, 180, 192, 170], 167)"
   ]
  },
  {
   "cell_type": "code",
   "execution_count": 35,
   "metadata": {},
   "outputs": [
    {
     "data": {
      "text/plain": [
       "0"
      ]
     },
     "execution_count": 35,
     "metadata": {},
     "output_type": "execute_result"
    }
   ],
   "source": [
    "solution([180, 120, 140], 190)"
   ]
  },
  {
   "attachments": {},
   "cell_type": "markdown",
   "metadata": {},
   "source": [
    "### k의 개수\n",
    "https://school.programmers.co.kr/learn/courses/30/lessons/120887 \n",
    "\n"
   ]
  },
  {
   "cell_type": "code",
   "execution_count": 56,
   "metadata": {},
   "outputs": [],
   "source": [
    "# 1부터 13까지의 수에서, 1은 1, 10, 11, 12, 13 이렇게 총 6번 등장합니다. \n",
    "# 정수 i, j, k가 매개변수로 주어질 때, i부터 j까지 k가 몇 번 등장하는지 return 하도록 solution 함수를 완성해주세요.\n",
    "\n",
    "def solution(i, j, k):\n",
    "    numberstr=str(list((range(i, j+1))))\n",
    "    answer =len(numberstr.split(\"k\"))-1 \n",
    "\n",
    "\n",
    "    return answer"
   ]
  },
  {
   "cell_type": "code",
   "execution_count": 37,
   "metadata": {},
   "outputs": [
    {
     "data": {
      "text/plain": [
       "[1, 2, 3, 4, 5, 6, 7, 8, 9, 10, 11, 12, 13, 14, 15, 16, 17, 18, 19]"
      ]
     },
     "execution_count": 37,
     "metadata": {},
     "output_type": "execute_result"
    }
   ],
   "source": [
    "a= list((range(1,20)))\n",
    "a"
   ]
  },
  {
   "cell_type": "code",
   "execution_count": 51,
   "metadata": {},
   "outputs": [
    {
     "name": "stdout",
     "output_type": "stream",
     "text": [
      "['[1, 2, 3, 4, 5, 6, 7, 8, 9, 10, 11, ', ', 13, 14, 15, 16, 17, 18, 19]'] 2\n"
     ]
    }
   ],
   "source": [
    "k =str(a)\n",
    "print(k.split(\"12\"), len(k.split(\"12\")))"
   ]
  },
  {
   "cell_type": "code",
   "execution_count": null,
   "metadata": {},
   "outputs": [],
   "source": [
    "def solution(i, j, k):\n",
    "    return len(str(list((range(i, j+1)))).split(f.\"{k}\"))-1"
   ]
  },
  {
   "cell_type": "code",
   "execution_count": 84,
   "metadata": {},
   "outputs": [],
   "source": [
    "def solution(i, j, k):\n",
    "    return len(str(list((range(i, j+1)))).split(str(k)))-1"
   ]
  },
  {
   "cell_type": "code",
   "execution_count": 85,
   "metadata": {},
   "outputs": [
    {
     "data": {
      "text/plain": [
       "6"
      ]
     },
     "execution_count": 85,
     "metadata": {},
     "output_type": "execute_result"
    }
   ],
   "source": [
    "solution(1,13,1)"
   ]
  },
  {
   "attachments": {},
   "cell_type": "markdown",
   "metadata": {},
   "source": [
    "### 할인 행사\n",
    "https://school.programmers.co.kr/learn/courses/30/lessons/131127"
   ]
  },
  {
   "cell_type": "code",
   "execution_count": 95,
   "metadata": {},
   "outputs": [],
   "source": [
    "# 일정금액 지불하면 10일동안 회원\n",
    "# 매일 회원대상 1가지 품목 할인, 한개만 구매 가능\n",
    "# 내가원하는 제품과 수량이 할인하는 날짜와 10일 연속 일치할 경우에 맞춰서 회원가입\n",
    "\n",
    "\n",
    "# 10일단위로 일단 자르고 str으로 만들어서 단어 몇개 있나 체크\n",
    "# 단어갯수 전부 맞으면 가능 구매일 플러스 일\n",
    "# 10일 단위 한칸씩 이동하며 반복\n",
    "def solution(want, number, discount):\n",
    "    answer=0\n",
    "    for i in range(len(discount)-9):\n",
    "        corr=0\n",
    "        for j in range(len(want)):\n",
    "            if str(discount[i:i+10]).count(str(want[j])) == number[j]:\n",
    "                print(want[j], number[j], str(discount[i:i+10]).count(str(want[j])))\n",
    "                corr += 1\n",
    "            else:\n",
    "                print('브레이크')\n",
    "                break\n",
    "        print('반복완')\n",
    "        if corr == len(want):\n",
    "            print('조건 만족')\n",
    "            answer +=1\n",
    "    return answer\n"
   ]
  },
  {
   "cell_type": "code",
   "execution_count": 97,
   "metadata": {},
   "outputs": [],
   "source": [
    "# 일정금액 지불하면 10일동안 회원\n",
    "# 매일 회원대상 1가지 품목 할인, 한개만 구매 가능\n",
    "# 내가원하는 제품과 수량이 할인하는 날짜와 10일 연속 일치할 경우에 맞춰서 회원가입\n",
    "\n",
    "# 10일단위로 일단 자르고 str으로 만들어서 단어 몇개 있나 체크\n",
    "# 단어갯수 전부 맞으면 가능 구매일 플러스 일\n",
    "# 10일 단위 한칸씩 이동하며 반복\n",
    "def solution(want, number, discount):\n",
    "    answer=0\n",
    "    for i in range(len(discount)-9):\n",
    "        corr=0\n",
    "        for j in range(len(want)):\n",
    "            if str(discount[i:i+10]).count(str(want[j])) == number[j]:\n",
    "                corr += 1\n",
    "            else:\n",
    "                break\n",
    "        if corr == len(want):\n",
    "            answer +=1\n",
    "    return answer\n"
   ]
  },
  {
   "cell_type": "code",
   "execution_count": 98,
   "metadata": {},
   "outputs": [],
   "source": [
    "def solution(want, number, discount):\n",
    "    answer=0\n",
    "    for i in range(len(discount)-9):\n",
    "        \n",
    "        for j in range(len(want)):\n",
    "            if str(discount[i:i+10]).count(str(want[j])) != number[j]:\n",
    "           \n",
    "                break\n",
    "        else:\n",
    "            # 반복문이 정상적으로 돌았으면\n",
    "            answer +=1\n",
    "    return answer"
   ]
  },
  {
   "cell_type": "code",
   "execution_count": null,
   "metadata": {},
   "outputs": [],
   "source": [
    "def solution(want, number, discount):\n",
    "    answer=0\n",
    "    for i in range(len(discount)-9):\n",
    "        \n",
    "        for j in range(len(want)):\n",
    "            if discount[i:i+10].count(want[j]) != number[j]:\n",
    "           \n",
    "                break\n",
    "        else:\n",
    "            # 반복문이 정상적으로 돌았으면\n",
    "            answer +=1\n",
    "    return answer"
   ]
  },
  {
   "cell_type": "code",
   "execution_count": 87,
   "metadata": {},
   "outputs": [],
   "source": [
    "a= [\"chicken\", \"apple\", \"apple\", \"banana\", \"rice\", \"apple\", \"pork\", \"banana\", \"pork\", \"rice\", \"pot\", \"banana\", \"apple\", \"banana\"]"
   ]
  },
  {
   "cell_type": "code",
   "execution_count": 96,
   "metadata": {},
   "outputs": [
    {
     "name": "stdout",
     "output_type": "stream",
     "text": [
      "브레이크\n",
      "반복완\n",
      "브레이크\n",
      "반복완\n",
      "banana 3 3\n",
      "apple 2 2\n",
      "rice 2 2\n",
      "pork 2 2\n",
      "pot 1 1\n",
      "반복완\n",
      "조건 만족\n",
      "banana 3 3\n",
      "apple 2 2\n",
      "rice 2 2\n",
      "pork 2 2\n",
      "pot 1 1\n",
      "반복완\n",
      "조건 만족\n",
      "banana 3 3\n",
      "apple 2 2\n",
      "rice 2 2\n",
      "pork 2 2\n",
      "pot 1 1\n",
      "반복완\n",
      "조건 만족\n"
     ]
    },
    {
     "data": {
      "text/plain": [
       "3"
      ]
     },
     "execution_count": 96,
     "metadata": {},
     "output_type": "execute_result"
    }
   ],
   "source": [
    "solution([\"banana\", \"apple\", \"rice\", \"pork\", \"pot\"], [3, 2, 2, 2, 1], a)"
   ]
  },
  {
   "cell_type": "code",
   "execution_count": 89,
   "metadata": {},
   "outputs": [
    {
     "data": {
      "text/plain": [
       "3"
      ]
     },
     "execution_count": 89,
     "metadata": {},
     "output_type": "execute_result"
    }
   ],
   "source": [
    "solution([\"banana\"], [10], [\"banana\", \"banana\", \"banana\", \"banana\", \"banana\", \"banana\", \"banana\", \"banana\", \"banana\", \"banana\", \"banana\", \"banana\"])"
   ]
  },
  {
   "cell_type": "code",
   "execution_count": null,
   "metadata": {},
   "outputs": [],
   "source": []
  }
 ],
 "metadata": {
  "kernelspec": {
   "display_name": "sesac",
   "language": "python",
   "name": "python3"
  },
  "language_info": {
   "codemirror_mode": {
    "name": "ipython",
    "version": 3
   },
   "file_extension": ".py",
   "mimetype": "text/x-python",
   "name": "python",
   "nbconvert_exporter": "python",
   "pygments_lexer": "ipython3",
   "version": "3.11.4"
  },
  "orig_nbformat": 4
 },
 "nbformat": 4,
 "nbformat_minor": 2
}
