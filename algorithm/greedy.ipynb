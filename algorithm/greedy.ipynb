{
 "cells": [
  {
   "attachments": {},
   "cell_type": "markdown",
   "metadata": {},
   "source": [
    "#### 알고리즘 문제풀이를 위한 셋팅"
   ]
  },
  {
   "cell_type": "code",
   "execution_count": 20,
   "metadata": {},
   "outputs": [],
   "source": [
    "def solution(N):\n",
    "    usecoin =0\n",
    "    # 전체로직\n",
    "    # 1. 가장 큰 단위의 동전으로 몫을 구한다.\n",
    "    # 2. 나머지로 한스탭 작은 단위 동전 몫과 나머지 구하기 반복\n",
    "    for i in [500, 100, 50, 10]:\n",
    "        while N >= i:\n",
    "            N -= i\n",
    "            usecoin += 1\n",
    "        print( i, '원 짜리 동전')\n",
    "        print('현재 총 사용한 갯수 :', usecoin)\n",
    "    return usecoin"
   ]
  },
  {
   "cell_type": "code",
   "execution_count": 27,
   "metadata": {},
   "outputs": [],
   "source": [
    "def solution(N):\n",
    "    usecoin =0\n",
    "    # 전체로직\n",
    "    # 1. 가장 큰 단위의 동전으로 몫을 구한다.\n",
    "    # 2. 나머지로 한스탭 작은 단위 동전 몫과 나머지 구하기 반복\n",
    "    for i in [500, 100, 50, 10]:\n",
    "        usecoin += (N//i)\n",
    "        N = (N % i)\n",
    "        print( i, '원 짜리 동전')\n",
    "        print('현재 총 사용한 갯수 :', usecoin)\n",
    "    return usecoin"
   ]
  },
  {
   "attachments": {},
   "cell_type": "markdown",
   "metadata": {},
   "source": [
    "#### TDD\n",
    "- 테스트 주도형 개발방식"
   ]
  },
  {
   "cell_type": "code",
   "execution_count": 28,
   "metadata": {},
   "outputs": [
    {
     "name": "stdout",
     "output_type": "stream",
     "text": [
      "500 원 짜리 동전\n",
      "현재 총 사용한 갯수 : 2\n",
      "100 원 짜리 동전\n",
      "현재 총 사용한 갯수 : 4\n",
      "50 원 짜리 동전\n",
      "현재 총 사용한 갯수 : 5\n",
      "10 원 짜리 동전\n",
      "현재 총 사용한 갯수 : 6\n"
     ]
    }
   ],
   "source": [
    "assert solution(1260) == 6, \"테스트 실패\""
   ]
  },
  {
   "attachments": {},
   "cell_type": "markdown",
   "metadata": {},
   "source": [
    "#### 체육복"
   ]
  },
  {
   "cell_type": "code",
   "execution_count": 73,
   "metadata": {},
   "outputs": [],
   "source": [
    "def solution(n, lost, reserve): # 전체학생수, 도난학생배열, 여벌학생배열\n",
    "    answer = 0\n",
    "    getcloth=[]\n",
    "    list1=[]\n",
    "    # 여벌복 보유 학생이 도난을 당했는지 우선 확인\n",
    "    for re in reserve:\n",
    "        if re in lost:\n",
    "            list1.append(re)\n",
    "            reserve.remove(re)\n",
    "            lost.remove(re)\n",
    "\n",
    "    # lost 에서 +1, -1 해서 해당 배열이 reserve에 있는 지 확인\n",
    "    # 있으면\n",
    "    for i in lost:\n",
    "        check1 = i -1\n",
    "        check2 = i +1\n",
    "        if check1 in reserve:\n",
    "            reserve.remove(check1)\n",
    "            getcloth.append(i)\n",
    "            continue\n",
    "            \n",
    "        elif check2 in reserve:\n",
    "            reserve.remove(check2)\n",
    "            getcloth.append(i)\n",
    "            continue    \n",
    "        else:\n",
    "            pass\n",
    "    # 위 반복문 안 조건문에서 바로 lost내 항목을 삭제했더니 for문이 돌지 않는 문제 발생    \n",
    "    for k in getcloth:\n",
    "        lost.remove(k)\n",
    "        \n",
    "    answer = (n - len(lost))\n",
    "    return answer # 최대 수업가능학생수"
   ]
  },
  {
   "cell_type": "code",
   "execution_count": 78,
   "metadata": {},
   "outputs": [],
   "source": [
    "def solution(n, lost, reserve): # 전체학생수, 도난학생배열, 여벌학생배열\n",
    "    getcloth=[]\n",
    "    # 여벌복 보유 학생이 도난시 제거\n",
    "    lost1= lost\n",
    "    lost = set(lost) - set(reserve)\n",
    "    reserve = set(reserve) - set(lost1)\n",
    "    # lost 에서 +1, -1 해서 해당 배열이 reserve에 있는 지 확인\n",
    "    # 있으면\n",
    "    for i in lost:\n",
    "        check1 = i -1\n",
    "        check2 = i +1\n",
    "        if check1 in reserve:\n",
    "            reserve.remove(check1)\n",
    "            getcloth.append(i)\n",
    "            continue\n",
    "            \n",
    "        elif check2 in reserve:\n",
    "            reserve.remove(check2)\n",
    "            getcloth.append(i)\n",
    "            continue    \n",
    "        else:\n",
    "            pass\n",
    "    # 위 반복문 안 조건문에서 바로 lost내 항목을 삭제했더니 for문이 돌지 않는 문제 발생    \n",
    "    for k in getcloth:\n",
    "        lost.remove(k)    \n",
    "    answer = (n - len(lost))\n",
    "    return answer # 최대 수업가능학생수"
   ]
  },
  {
   "cell_type": "code",
   "execution_count": null,
   "metadata": {},
   "outputs": [],
   "source": [
    "# 다른사람 풀이\n",
    "# for문과 remove할 타겟 리스트를 다르게 하면 문제없이 진행되는구나....\n",
    "def solution(n, lost, reserve):\n",
    "    n_lost = set(lost) - set(reserve)\n",
    "    n_reserve = set(reserve) - set(lost)\n",
    "    for x in n_lost:\n",
    "        # 조건절을 쓸 때 x-1부터 탐색하도록 해야 함 \n",
    "        if x -1 in n_reserve:\n",
    "            n_reserve.remove(x-1)\n",
    "        # if가 아니라면 x+1 탐색\n",
    "        elif x + 1 in n_reserve:\n",
    "            n_reserve.remove(x+1)\n",
    "        # 둘다 해당 안되면 체육복을 빌릴 수가 없음 \n",
    "        else:\n",
    "            n -= 1\n",
    "\n",
    "    return n \n",
    "\n",
    "def solution(n, lost, reserve):\n",
    "    _reserve = [r for r in reserve if r not in lost]\n",
    "    _lost = [l for l in lost if l not in reserve]\n",
    "    for r in _reserve:\n",
    "        f = r - 1\n",
    "        b = r + 1\n",
    "        if f in _lost:\n",
    "            _lost.remove(f)\n",
    "        elif b in _lost:\n",
    "            _lost.remove(b)\n",
    "    return n - len(_lost)\n",
    "\n",
    "#장광훈 — 오늘 오전 9:38\n",
    "def solution(n, lost, reserve):\n",
    "    tmp_lost = sorted([stu for stu in lost if stu not in reserve])\n",
    "    print('1')\n",
    "    print(tmp_lost)\n",
    "    print(type(tmp_lost))\n",
    "    tmp_reserve = sorted([stu for stu in reserve if stu not in lost])\n",
    "\n",
    "    for r in tmp_reserve:\n",
    "        if r - 1 in tmp_lost:\n",
    "            tmp_lost.remove(r - 1)\n",
    "        elif r + 1 in tmp_lost:\n",
    "            tmp_lost.remove(r + 1)\n",
    "\n",
    "    return n - len(tmp_lost)"
   ]
  },
  {
   "cell_type": "code",
   "execution_count": null,
   "metadata": {},
   "outputs": [],
   "source": []
  },
  {
   "attachments": {},
   "cell_type": "markdown",
   "metadata": {},
   "source": [
    "#### TDD\n",
    "- 테스트 주도형 개발방식"
   ]
  },
  {
   "cell_type": "code",
   "execution_count": 79,
   "metadata": {},
   "outputs": [],
   "source": [
    "assert solution(5, [2, 4], [1, 3, 5]) == 5, \"테스트 실패\"\n",
    "assert solution(5, [2, 4], [3]) == 4, \"테스트 실패\"\n",
    "assert solution(3, [3], [1]) == 2, \"테스트 실패\""
   ]
  },
  {
   "cell_type": "code",
   "execution_count": 70,
   "metadata": {},
   "outputs": [
    {
     "name": "stdout",
     "output_type": "stream",
     "text": [
      "2\n",
      "2 1\n",
      "[2, 4]\n",
      "4\n",
      "4 3\n",
      "[2, 4]\n"
     ]
    },
    {
     "data": {
      "text/plain": [
       "5"
      ]
     },
     "execution_count": 70,
     "metadata": {},
     "output_type": "execute_result"
    }
   ],
   "source": [
    "solution(5, [2, 4], [1, 3, 5])"
   ]
  },
  {
   "cell_type": "code",
   "execution_count": null,
   "metadata": {},
   "outputs": [],
   "source": []
  }
 ],
 "metadata": {
  "kernelspec": {
   "display_name": "sesac",
   "language": "python",
   "name": "python3"
  },
  "language_info": {
   "codemirror_mode": {
    "name": "ipython",
    "version": 3
   },
   "file_extension": ".py",
   "mimetype": "text/x-python",
   "name": "python",
   "nbconvert_exporter": "python",
   "pygments_lexer": "ipython3",
   "version": "3.11.4"
  },
  "orig_nbformat": 4
 },
 "nbformat": 4,
 "nbformat_minor": 2
}
