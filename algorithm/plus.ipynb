{
 "cells": [
  {
   "cell_type": "code",
   "execution_count": 32,
   "metadata": {},
   "outputs": [],
   "source": [
    "string = \"315555 + 22562\""
   ]
  },
  {
   "cell_type": "code",
   "execution_count": 33,
   "metadata": {},
   "outputs": [],
   "source": [
    "# 문자열로 이루어진 수식의 답을 구하는 문제\n",
    "# 문자열을 숫자와 수식으로 쪼갠다\n",
    "# 문자열형식의 숫자를 정수형으로 바꿔준다\n",
    "# 바뀐 숫자들을 받은 연산자에 따라 구분하여 연산을 진행한다.\n",
    "# 결과를 밷어낸다.\n",
    "\n",
    "def cal (string):\n",
    "    if '+' in string:\n",
    "        a,b =string.split('+')\n",
    "        a=int(a)\n",
    "        b=int(b)\n",
    "        result = a + b\n",
    "    else:\n",
    "        a,b =string.split('-')\n",
    "        a=int(a)\n",
    "        b=int(b)\n",
    "        result = a - b\n",
    "     \n",
    "    return result"
   ]
  },
  {
   "cell_type": "code",
   "execution_count": 34,
   "metadata": {},
   "outputs": [
    {
     "data": {
      "text/plain": [
       "338117"
      ]
     },
     "execution_count": 34,
     "metadata": {},
     "output_type": "execute_result"
    }
   ],
   "source": [
    "cal(string)"
   ]
  },
  {
   "cell_type": "code",
   "execution_count": 36,
   "metadata": {},
   "outputs": [],
   "source": [
    "# 연산자가 여러개일 경우!\n",
    "# 스플릿하면 아래와 같이 나옴\n",
    "# 숫자 연산자 숫자 연산자 ...  숫자 연산자 숫자\n",
    "# 그렇다면 반복문을 돌리면서 2개마다 점프하면 연산자를 뽑을 수 있겠다.\n",
    "# 연산자는 홀수 숫자는 짝수\n",
    "def solution(my_string):\n",
    "    s = my_string.split()\n",
    "    answer = int(s[0])\n",
    "    for i in range(1,len(s),2):\n",
    "        if s[i]=='+':\n",
    "            answer+=int(s[i+1])\n",
    "        else:\n",
    "            answer-=int(s[i+1])\n",
    "    return answer"
   ]
  },
  {
   "cell_type": "code",
   "execution_count": 38,
   "metadata": {},
   "outputs": [
    {
     "data": {
      "text/plain": [
       "36"
      ]
     },
     "execution_count": 38,
     "metadata": {},
     "output_type": "execute_result"
    }
   ],
   "source": [
    "string=\"5 - 2 + 22 - 10 + 21\"\n",
    "solution(string)"
   ]
  },
  {
   "cell_type": "code",
   "execution_count": null,
   "metadata": {},
   "outputs": [],
   "source": []
  }
 ],
 "metadata": {
  "kernelspec": {
   "display_name": "webc",
   "language": "python",
   "name": "python3"
  },
  "language_info": {
   "codemirror_mode": {
    "name": "ipython",
    "version": 3
   },
   "file_extension": ".py",
   "mimetype": "text/x-python",
   "name": "python",
   "nbconvert_exporter": "python",
   "pygments_lexer": "ipython3",
   "version": "3.8.16"
  },
  "orig_nbformat": 4
 },
 "nbformat": 4,
 "nbformat_minor": 2
}
